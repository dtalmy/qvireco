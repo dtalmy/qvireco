{
 "cells": [
  {
   "cell_type": "markdown",
   "metadata": {},
   "source": [
    "<h5> Problem set 1 </h5>\n",
    "50 points total <br> Due April 24th \n",
    "\n",
    "The goals of this problem set are to familiarize you with some classical mathematical population models. For assessment, you are required to submit two files:\n",
    "\n",
    "a) A document with your mathematical solutions. This file can be handwritten and uploaded to Canvas as a scanned / photographed pdf or image file. It can also be typeset in ms word (using the 'Equation' feature for the maths) or using $\\LaTeX$ (see [here](https://www.overleaf.com/learn/latex/Free_online_introduction_to_LaTeX_(part_1)) for more information).\n",
    "    \n",
    "b) A .py file with your code. Below I give more specific instructions for how to set this up and what to include.\n",
    "\n",
    "<ins>Question 1 </ins> (worth 15 points in total)\n",
    "\n",
    "<ins>Question 1a</ins> (5 points)\n",
    "\n",
    "Consider the Malthusian growth model:\n",
    "\n",
    "\\begin{equation}\n",
    "\\frac{dP}{dt} = \\mu P\n",
    "\\end{equation}\n",
    "\n",
    "with initial condition such that at time $t=0$, $P=P_0$. That is: $P(0)=P_0$.\n",
    "\n",
    "Use separation of variables to solve this problem (tip: watch the example I provide in lecture 1. Then, using pen and paper, try and work through the steps on your own, but refer back to the lecture if you get stuck)\n",
    "\n",
    "<ins>Question 1b</ins> (5 points)\n",
    "\n",
    "Now visualize the solution to this model using Python. First, we need to import some python packages:\n",
    "\n",
    "- the numpy ('numerical python') package for our numerical calculations. See [here](https://numpy.org) for documentation.\n",
    "- the pylab ('python plotting') package to visualize our output. This is part of the matplotlib library, see [here](https://matplotlib.org) for documentation.\n",
    "- the pandas ('panel data') library for data manipulation. See [here](https://pandas.pydata.org/docs/) for documentation."
   ]
  },
  {
   "cell_type": "code",
   "execution_count": 2,
   "metadata": {},
   "outputs": [
    {
     "name": "stdout",
     "output_type": "stream",
     "text": [
      "your test string\n"
     ]
    }
   ],
   "source": [
    "import numpy as np\n",
    "import pylab as pl\n",
    "import pandas as pd\n",
    "\n",
    "print('your test string')"
   ]
  },
  {
   "cell_type": "markdown",
   "metadata": {},
   "source": [
    "You can test that the code is working by first clicking anywhere in the cell with the code, then hitting the 'Run' icon on the toolbar above. You should see the words 'your test string' appear directly below the code and above this text.\n",
    "\n",
    "Now that the code is working in this jupyter notebook, we can transfer it over to a .py file. Using your preferred text editor, open up a file, e.g. with the following name: 'David_Talmy_pset1.py' replacing my name with your own. This is the file you will eventually submit for grading. Copy the text above into the .py file. Before saving it, replace 'your test string' with something new, e.g. 'script test string'. Once saved, from the command line, type:\n",
    "\n",
    "python David_Talmy_pset1.py\n",
    "\n",
    "replacing the filename with whatever name you have chosen. Your test string should appear on the screen. This means you have imported the packages into your workspace. \n",
    "\n",
    "(As a note, I have found this workflow helpful with all code that I write: first play around with the code in jupyter, then copy over to a .py script. This lets you test out snipets of code before building a long file with lots of potential bugs.)"
   ]
  },
  {
   "cell_type": "markdown",
   "metadata": {},
   "source": [
    "In order to visualize the solution to the Malthusian growth model, we first need to setup a time domain. You can do this by running the code below"
   ]
  },
  {
   "cell_type": "code",
   "execution_count": 3,
   "metadata": {},
   "outputs": [
    {
     "name": "stdout",
     "output_type": "stream",
     "text": [
      "tmin = 0\n",
      "tmax = 15\n",
      "nsteps = 1500.0\n"
     ]
    }
   ],
   "source": [
    "tmin,tmax = 0,15\n",
    "delta = 0.01\n",
    "nsteps = (tmax-tmin)/delta\n",
    "times = np.linspace(tmin,tmax,int(nsteps))\n",
    "print('tmin =',tmin)\n",
    "print('tmax =',tmax)\n",
    "print('nsteps =', nsteps)"
   ]
  },
  {
   "cell_type": "markdown",
   "metadata": {},
   "source": [
    "Be sure to hit the 'Run' button above to make sure this code works. You now have an array of numbers stored in the 'times' variable, that goes between 0 and 10 days in 1000 even increments. \n",
    "\n",
    "Now that the time domain is setup, we can calculate the solution over this domain. If we choose an intial condition (say, $P_0=10000$ cells ml$^{-1}$), and a growth rate (say, $\\mu$=1.0 day$^{-1}$) we can store our solution in the variable P:"
   ]
  },
  {
   "cell_type": "code",
   "execution_count": 4,
   "metadata": {},
   "outputs": [],
   "source": [
    "P0 = 10000 # initial condition\n",
    "mu = 1 # growth rate\n",
    "Panalytical = P0*np.exp(mu*times)"
   ]
  },
  {
   "cell_type": "markdown",
   "metadata": {},
   "source": [
    "Now that you have done this, let's visualize the solution to the Malthusian growth model. You can do this by first setting up a set of axes. Run the code below, then add it to your .py script."
   ]
  },
  {
   "cell_type": "code",
   "execution_count": 5,
   "metadata": {
    "scrolled": true
   },
   "outputs": [
    {
     "data": {
      "image/png": "[encoded data removed]",
      "text/plain": [
       "<Figure size 432x288 with 1 Axes>"
      ]
     },
     "metadata": {
      "needs_background": "light"
     },
     "output_type": "display_data"
    }
   ],
   "source": [
    "f,ax=pl.subplots()\n",
    "ax.set_xlabel('Time (days)')\n",
    "ax.set_ylabel('Cells (ml$^{-1}$)')\n",
    "ax.plot(times,Panalytical,label='Analytical solution')\n",
    "pl.show()"
   ]
  },
  {
   "cell_type": "markdown",
   "metadata": {},
   "source": [
    "<ins>Question 1c</ins> (5 points)\n",
    "\n",
    "Now solve the Malthusian growth model using numerical integration. Here, we will use Euler integration (Wikipedia has a good explanation, [here](https://en.wikipedia.org/wiki/Euler_method))"
   ]
  },
  {
   "cell_type": "code",
   "execution_count": 6,
   "metadata": {},
   "outputs": [],
   "source": [
    "Pnumerical = np.r_[[]]\n",
    "Pt = P0\n",
    "for t in times:\n",
    "    Pt = Pt + delta*mu*Pt\n",
    "    Pnumerical = np.append(Pnumerical,Pt)"
   ]
  },
  {
   "cell_type": "markdown",
   "metadata": {},
   "source": [
    "The array 'Ptnumerical' now has the numerical solution. Let's visualize it and compare with the analytical solution:"
   ]
  },
  {
   "cell_type": "code",
   "execution_count": 7,
   "metadata": {},
   "outputs": [
    {
     "data": {
      "image/png": "[encoded data removed]",
      "text/plain": [
       "<Figure size 432x288 with 1 Axes>"
      ]
     },
     "metadata": {
      "needs_background": "light"
     },
     "output_type": "display_data"
    }
   ],
   "source": [
    "f,ax1=pl.subplots()\n",
    "ax1.set_xlabel('Time (days)')\n",
    "ax1.set_ylabel('Cells (ml$^{-1}$)')\n",
    "ax1.plot(times,Panalytical,label='Analytical solution')\n",
    "ax1.plot(times,Pnumerical,c='r',label='Numerical solution')\n",
    "l = ax1.legend()\n",
    "pl.show()"
   ]
  },
  {
   "cell_type": "markdown",
   "metadata": {},
   "source": [
    "<ins>Question 2</ins> (worth 15 points total)\n",
    "\n",
    "The Malthusian growth model is unrealistic, as it allows populations to grow exponentially forever. We will now consider an extension to the Malthusian growth model, the logistic equation.\n",
    "\n",
    "Consider a simple resource ($R$, cellular units $ml^{-1}$) fed upon by a 'producer' ($P$, cellular units $ml^{-1}$):\n",
    "\n",
    "\\begin{align}\n",
    "\\frac{dR}{dt}&=-\\alpha R P \\\\\n",
    "\\frac{dP}{dt}&=\\alpha R P \\\\\n",
    "\\end{align}\n",
    "\n",
    "where $\\alpha$ is a nutrient affinity with units ml day$^{-1}$. Let the system have initial conditions $R(0)=R_0$ and $P(0)=P_0$. Furthermore, assume that the total amount of material in the system is conserved, such that $R+P=K$, where K is a carrying capacity with cellular units ($ml^{-1}$). Using pen and paper, rearrange these equations above so that they resemble the logistic equation:\n",
    "\n",
    "\\begin{equation}\n",
    "\\frac{dP}{dt} = \\mu P \\left( 1-\\frac{P}{K}\\right)\n",
    "\\end{equation}\n",
    "\n",
    "Where $\\mu$ is a new parameter that can be expressed as function of the parameters $\\alpha$ and $K$.\n",
    "\n",
    "(Tip: try and work on your own, without help. If you get stuck, refer to my video lecture, or look in the Appendix of the paper by Ram et al., 'Predicting microbial growth in a mixed culture from growth curve data' PNAS 2019)"
   ]
  },
  {
   "cell_type": "markdown",
   "metadata": {},
   "source": [
    "<ins>Question 3</ins> (worth 20 points total)\n",
    "\n",
    "<ins>Question 3a</ins> (5 points)\n",
    "\n",
    "Now that you have derived the logistic equation, we can use a combination of analytical and numerical techniques to solve it, and compare with laboratory data. First, let's load in and vizualize some data of <i>Prochlorococcus</i> growing in batch culture:"
   ]
  },
  {
   "cell_type": "code",
   "execution_count": 8,
   "metadata": {},
   "outputs": [
    {
     "name": "stdout",
     "output_type": "stream",
     "text": [
      "   time     cells\n",
      "0     0    2410.0\n",
      "1     3    5390.0\n",
      "2     5   15800.0\n",
      "3    10   52300.0\n",
      "4    12  135000.0\n",
      "5    14  120000.0\n"
     ]
    }
   ],
   "source": [
    "pro_df = pd.read_csv('../data/pro_batch_curve.csv')\n",
    "print(pro_df)"
   ]
  },
  {
   "cell_type": "markdown",
   "metadata": {},
   "source": [
    "This experimental data shows cells densities over 18 days. We can vizualize the data and compare it with the logistic equation  (note that, for comparison below, I also provide an analytical solution to the logistic equation, an explanation of this can be found, e.g. [here](https://www.youtube.com/watch?v=vsYWMEmNmZo)):"
   ]
  },
  {
   "cell_type": "code",
   "execution_count": 11,
   "metadata": {},
   "outputs": [
    {
     "data": {
      "image/png": "[encoded data removed]",
      "text/plain": [
       "<Figure size 432x288 with 1 Axes>"
      ]
     },
     "metadata": {
      "needs_background": "light"
     },
     "output_type": "display_data"
    }
   ],
   "source": [
    "# set up axes\n",
    "f2,ax2 = pl.subplots()\n",
    "ax2.scatter(pro_df['time'],pro_df['cells'])\n",
    "ax2.set_xlabel('Time (days)')\n",
    "ax2.set_ylabel('Cells (ml$^{-1}$)')\n",
    "\n",
    "# define parameter values\n",
    "P0 = pro_df['cells'][0] / 1.5\n",
    "K = 130000\n",
    "alpha = 1/260000.0\n",
    "mu = K*alpha\n",
    "\n",
    "# solve model analytically\n",
    "Plogistic_analytical = K*P0*np.exp(mu*times) / (K+P0*(np.exp(mu*times)-1))\n",
    "\n",
    "# solve model numerically\n",
    "Nlogistic_numerical = np.r_[[]]\n",
    "Plogistic_numerical = np.r_[[]]\n",
    "Pt = P0\n",
    "N0 = K-P0\n",
    "Nt = N0\n",
    "for t in times:\n",
    "    Nt = Nt - delta*alpha*Nt*Pt\n",
    "    Pt = Pt + delta*alpha*Nt*Pt\n",
    "    Nlogistic_numerical = np.append(Nlogistic_numerical,Nt)\n",
    "    Plogistic_numerical = np.append(Plogistic_numerical,Pt)\n",
    "\n",
    "# now plot\n",
    "ax2.plot(times,Plogistic_analytical,label='analytical solution')\n",
    "ax2.plot(times,Plogistic_numerical,label='numerical solution')\n",
    "l = ax2.legend()\n",
    "pl.show()"
   ]
  },
  {
   "cell_type": "markdown",
   "metadata": {},
   "source": [
    "<ins>Question 3b</ins> (15 points)\n",
    "\n",
    "The analytical and numerical solutions should be so close to one another that they overlap. Now that we have these solutions working, let's finish up by exploring:\n",
    "\n",
    "i) what happens when we change the timestep (delta)? (5 points) <br>\n",
    "ii) what happens when we change the carrying capacity, $K$? (5 points) <br>\n",
    "iii) what happens when we change the nutrient affinity, $\\alpha$? (5 points)\n",
    "\n",
    "conduct simulations where you double each of these (timestep, carrying capacity, and nutrient affinity). Plot the results (Tip: create a brand new Python figure for each sensitivity test)."
   ]
  },
  {
   "cell_type": "markdown",
   "metadata": {},
   "source": []
  }
 ],
 "metadata": {
  "kernelspec": {
   "display_name": "Python 3",
   "language": "python",
   "name": "python3"
  },
  "language_info": {
   "codemirror_mode": {
    "name": "ipython",
    "version": 3
   },
   "file_extension": ".py",
   "mimetype": "text/x-python",
   "name": "python",
   "nbconvert_exporter": "python",
   "pygments_lexer": "ipython3",
   "version": "3.8.3"
  }
 },
 "nbformat": 4,
 "nbformat_minor": 5
}
